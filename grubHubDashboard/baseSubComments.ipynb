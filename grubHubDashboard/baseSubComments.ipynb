{
 "cells": [
  {
   "cell_type": "code",
   "execution_count": 1,
   "metadata": {},
   "outputs": [],
   "source": [
    "import praw"
   ]
  },
  {
   "cell_type": "code",
   "execution_count": 2,
   "metadata": {},
   "outputs": [],
   "source": [
    "import pandas as pd\n",
    "import matplotlib.pyplot as plt\n",
    "from wordcloud import WordCloud\n",
    "import json"
   ]
  },
  {
   "cell_type": "code",
   "execution_count": 3,
   "metadata": {},
   "outputs": [
    {
     "name": "stdout",
     "output_type": "stream",
     "text": [
      "vDataScience\n"
     ]
    }
   ],
   "source": [
    "reddit = praw.Reddit(client_id='55yAR4HgRI84dHkZbsbzYg',\n",
    "                     client_secret='wrbSuD305SGHqmLMNqdfEfYhEvwNEQ',\n",
    "                     password='gyC9r2SS3qb#',\n",
    "                     user_agent='myAPI1.0',\n",
    "                     username='vDataScience')\n",
    "\n",
    "print(reddit.user.me())"
   ]
  },
  {
   "cell_type": "code",
   "execution_count": 8,
   "metadata": {},
   "outputs": [],
   "source": [
    "subreddit = reddit.subreddit('grubhub') # Change the subreddit's name here \n",
    "sub_ids = []\n",
    "for submission in subreddit.top(limit = 25): # Define the limit here and filter method\n",
    "    sub_ids.append(submission.id)\n",
    "    \n",
    "top_level_comments = []\n",
    "#second_level_comments = []\n",
    "title = []\n",
    "selftext = []\n",
    "for sub_id in sub_ids:\n",
    "    submission = reddit.submission(id = sub_id)\n",
    "    title.append(submission.title) # Get submission title\n",
    "    selftext.append(submission.selftext) # Get submission content\n",
    "    submission.comments.replace_more(limit = None)\n",
    "    for top_level_comment in submission.comments:\n",
    "        top_level_comments.append(top_level_comment.body) # Get top-level comments\n",
    "        #for second_level_comment in top_level_comment.replies:\n",
    "            #second_level_comments.append(second_level_comment.body) # Get second-level comments"
   ]
  },
  {
   "cell_type": "code",
   "execution_count": 9,
   "metadata": {},
   "outputs": [
    {
     "data": {
      "text/plain": [
       "['God damn it take my upvote.',\n",
       " 'The dancing is cringe. The music is awful. The food looks overly detailed compared to all the other models. The characters are literally just dancing instead of advertising food. Everything about the ad is horrendous.',\n",
       " 'it felt like i was being stabbed in the eyes',\n",
       " 'grubhub',\n",
       " 'Am I allowed to sue you. As your post gave me the Heartburn',\n",
       " 'lol',\n",
       " 'Omg all of grubhubs YouTube videos are disliked to oblivion.',\n",
       " '\\\\- His Cringy dancing moves spread to you -',\n",
       " 'Grub moment',\n",
       " '\"Grubhub gives you percs\"',\n",
       " 'Grubhub lore',\n",
       " 'is this a new grubhub ad?',\n",
       " '**T H E Y.   F U C K E D.**',\n",
       " 'im gonna divorce them',\n",
       " 'https://www.youtube.com/watch?v=Zbv6spWd4p8\\n\\nFound it on  youtube',\n",
       " 'That lady MUST divorce him',\n",
       " 'LMAO YALL TOO MUCH #WhosTheKidThen\\nAnd didn’t he have a wife in the house with the kid???',\n",
       " 'HOLY S I I I II I I R',\n",
       " 'forget that they have a dog!?!?!?!?!?!?!',\n",
       " \"That's the same dog that the guy with the tacos has...\\n\\n\\nAffair?\",\n",
       " '?',\n",
       " 'grubhub perks give you deals on the food you love\\n\\n\\\\*brutally murders son\\\\*',\n",
       " 'F',\n",
       " 'Order a new one using the GrubHub™ app',\n",
       " 'Poggers',\n",
       " 'Comments are off. Fuckin cowards',\n",
       " 'Very unappealing characters',\n",
       " 'milkshake girl is looking sus',\n",
       " 'Milkshake girl has simps, weirdly.',\n",
       " 'salad girl can suck my asshole',\n",
       " 'Bruh why is salad girl not top voted?',\n",
       " 'milkshake girl is satan',\n",
       " 'Milkshake girl is an impostor',\n",
       " 'she cant even succ milkshrek properly',\n",
       " 'There Should be a option for all of the above.',\n",
       " 'milkshake girl breaks her bones',\n",
       " 'Milkshake girl has really dry and crusty lips',\n",
       " 'Thanks, I really appreciate that.',\n",
       " 'you are so sweet. thank you. we are all in this together 🤝🙏',\n",
       " 'Appreciate you',\n",
       " 'Username Checks out',\n",
       " \"Very unprofessional and I'm sorry you had to deal with that. Hopefully you won't have that issue in the future. I know getting something resolved with GrubHub is a hassle in itself.\",\n",
       " 'Pretty sure bringing the food to your actual house is part of the job, so that\\'s already a mess-up on her part that you can bring up with Grubhub. If I was you I\\'d definitely follow up and emphasize that you got injured because of her carelessness.\\n\\nThey give those discounts and stuff so that customers don\\'t follow up and they can ignore issues like this because you feel like it\\'s \"resolved\", while this asshole is just gonna keep doing it to other people because nobody is telling them it\\'s wrong. \\n\\nThink of it this way, you just got offered the same thing they give to someone who was missing an item on their order, or whose food came cold, but you had to go through hell here.',\n",
       " 'I’m so sorry this happened to you. Thank you for posting so new drivers will know that’s isn’t how you are supposed to deliver someone’s food. If I was you I’d make sure to check back with grubhub and make sure they address it with both the driver and yourself. Take care.',\n",
       " 'This sucks so much. If I were in your shoes I would have called support right away while she was honking. Never put yourself at risk for anything.',\n",
       " 'What did I just read?! I am so sorry you had to experience that OP! I hope you are doing better now and that the delivery driver was severely reprimanded for their unprofessionalism which caused you an injury.',\n",
       " 'I’m so sorry.  I wish I could fix this for you.  I’be been in a similar situation which is why I follow this sub.  Nothing ever came of the situation, it never resolved.  I don’t know if anything came of it.  I am worried about what you will do with this.  I empathize so much and if it were me I’d take the physical pain AND NO FOOD and be mad about it over and over again.  I hope you are stronger than me and can put it down.  \\n\\nI wish I had a magic wand to get you a lifetime supply of subway and a body that works just as well as your mind.  I know the frustration.  I am with you on this.  💙',\n",
       " 'Lazy ass driver',\n",
       " 'I’m sorry about that. We are paid to deliver to the door not be rude',\n",
       " 'She should be fired. That’ll make sure she doesn’t get the chance to repeat it on any future orders and/or customers.',\n",
       " \"I always insisted on coming downstairs to the entry of my building years before the pandemic started even though I am not in the best of health. All the driver had to do is call me or ring my buzzer which I always indicated. I live in a 3 story walk up on the 3rd floor. I am a former delivery driver that delivered far more strenous cargo than a light bag of food (and up several flights of stairs several times a day) for many years, but I always like to make it easy on a driver. I always tip well. I also did restaurant food delivery myself for a couple years when I was young. The problem with these delivery services is many drivers are not professional delivery drivers. I have had drivers call me and tell me to come outside to their car and pick it up. Unreal. If you can't fucking get out of your car with a bag that weighs maybe 2 pounds and walk 30 feet you are a piece of shit. FedEx, UPS, and USPS get stuff to the front door. Get over your delusional selves.\",\n",
       " 'Is this the Grubhub commercial rule 34 exchange thread?',\n",
       " \"The grubhub commercial is one of the weirdest things that I've seen gone viral\",\n",
       " 'https://youtu.be/-CU0ngxeZ_Y',\n",
       " 'Grubhub Ad, but it is extremely laggy: https://youtu.be/SdejhFS8bjs',\n",
       " 'Makes you b o o g i e boomers',\n",
       " 'FBI said no. [GrubHub But The FBI Raids Them](https://youtu.be/xzEf0nxqxGM)',\n",
       " '[Here’s my take ](https://youtu.be/FoFpQWFHB80)',\n",
       " 'GrubHub ad but the quality gets worse:\\n\\n\"Please note that  ***I did make the video***\"\\n\\n[https://youtu.be/6\\\\_kVOD0Uovg](https://youtu.be/6_kVOD0Uovg)',\n",
       " 'Grub hub speed run [grub hub speed run](https://youtu.be/hH0hOl7lrTw)',\n",
       " '[Grubhub ad but they have a staring contest](https://youtu.be/cowB1ENTxDI)',\n",
       " 'Ascii GrubHub Pr0n Funk  \\n[https://www.youtube.com/watch?v=ReKtTHZK2ZM](https://www.youtube.com/watch?v=ReKtTHZK2ZM)',\n",
       " 'Grubhub perks give you deals on the food you love',\n",
       " '[https://youtu.be/BNGQlVtIWiw](https://youtu.be/BNGQlVtIWiw)',\n",
       " \"Don't know if it's been posted. But food theory has uploaded a unreleased commerical for GrubHub. \\n\\n[Unreleased commerical](https://youtube.com/clip/UgxpuaF-JMyLHa9CrJJ4AaABCQ)\\n\\n[Food theory channel](https://youtube.com/c/FoodTheorists)\\n\\nI apologize if this has been posted already. I don't follow this community right now and and noticed there was a thread dedicated to the ads for this company.\",\n",
       " 'grub what you love',\n",
       " 'grubhub',\n",
       " 'The GH commercials are annoying and stupid .',\n",
       " \"Most 1st world countries don't even allow auto-opt in for things, so I'm not really surprised nor do I think it's a problem to stop the service from auto-charging someone a tip.\",\n",
       " '>proceeds to repost the same ss for 10th time\\n\\n>calls troll or cheap whoever answer the repost',\n",
       " \"If they paid us a proper wage, we wouldn't need f***in tips. I make about $70 in 12 hrs before tips... That's $5.83 per HR plus gas has to come out from that and we have to maintain our cars. I understand tips are optional but we should be compensated properly before tips because we are going to get 0 tips on a regular basis now. We should just f***ING strike but then again thats what they want to happen to give rise to the new Robo taxi and autonomous delivery services right??\",\n",
       " 'Don’t know why the comments are filled with a bunch of lumpenprole bootstrappers. Keep your head up OP!',\n",
       " 'The customers that want to tip are still going to be smart enough to use the Custom tip. Calm down and give this shit a rest.',\n",
       " '@higuy33445566\\n\\nTo be fair and direct, the ideology behind tipping is entirely Western in nature.\\nThe mere construct that one would:\\n\\n1. Expect to make additional, unguaranteed money for completing a service, that they don\\'t have to complete and are paid a wage for...\\n2. Be mandatorially matched within the acquisition of that tip because of a presumption that it is inherently proportional to the amount of the order; developing a model of \"amount acquired by the order submitter = how much I (the deliverer) should be paid (optionally, at that) to remit and complete the basis of the job that I signed up for...\\n3. Earn more money, basically on pity, because the economy surrounding gigs is valued less than other jobs in the circulation of the economy because their value is not, empirically, as high as it could be...\\n\\nIs ridiculous. 120.00% or not, it\\'s foolishness on the behalf of the dignity of the person completing the job. If it isn\\'t compensating you enough to pay your bills, if the socio-economics surrounding it as complete garbage, and it\\'s not getting any better then why stay and continue to suffer and hope to find people that will pity then ally with you and support your broken cycle of sustenance?\\n\\nBreak the cycle, find a better job, make a better wage, and survive.\\nIf you don\\'t have the tools to do so, then start delegating energy and investing it into building the resources to get those tools to be successful.\\n\\nYou keep complaining about how the market is awful:\\n\\n1. Knowing it\\'s not going to change.\\n2. Knowing that your influence is not enough to empirically change it.\\n3. Knowing that it all rests on the apex of what those at the top of Jacob\\'s Ladder have built and have for themselves.\\n\\nYet, you still stay as if to say \"Hell sucks. Please make it suck less.\"\\n\\nRather, why not try to ally people to support your growth so you can be a better human being for yourself? Spineless caucus.\\n\\nTake a note from those at the top and learn to construct your resources in a manner that invests in your future, not the pity that the people can offer over a destructive and pathetic construct like a tip.\\n\\nAnd instead of comparing yourself to what others can and can\\'t do, invert your attitude and strive to reach the top and usurp the odds because you deserve it.\\n\\nIf you can\\'t motivate yourself, then no one else will.',\n",
       " 'Find fulfillment chasing those like yourself and may you find true happiness within the assimilation; sheep.',\n",
       " \"Grubhub gig workers react angrily to change in tipping policy\\n\\nFood delivery app reduces default gratuity amount following introduction of new employment rules in California\\n\\n￼\\n\\nWeeks after California passed Proposition 22, Grubhub reduced its default tip amount from about 20 per cent to zero © Mike Segar/Reuters\\n\\n\\xa0\\xa0\\xa0\\n\\nDecember 25, 2020 4:00 am\\xa0by\\xa0Dave Lee\\xa0in San Francisco\\n\\nCalifornia-based workers for food delivery app Grubhub have reacted angrily to changes to the platform which they say discourage tipping, saying they would wipe out the supposed benefits of new gig worker rules in the state.\\nLast month, California passed\\xa0Proposition 22, which though falling far short of the benefits received by full-time employees, gave gig workers a limited number.\\nWeeks after the ruling, Grubhub reduced its default tip amount from about 20 per cent to zero, adding a suggestion to “leave an optional tip on top of driver benefits”.\\n\\nLike other apps,\\xa0Grubhub\\xa0added an additional “benefit” fee, in its case $1.50, to each order in California — though that money is put into a centralised pot for which only a limited number of drivers are expected to fully qualify.\\n“[The] benefits are not nearly high enough to compensate for encouraging no tipping,” wrote one Grubhub worker on Reddit.\\n“Such bullshit to drive this wedge between customers and drivers,” wrote another. A third added: “This is chilling. Really disappointing.”\\nUnder Proposition 22, workers receive a healthcare stipend, provided they clock at least an average of 15 hours per week on one of the gig apps. However, in order to qualify, workers must already be the primary policyholder on an existing healthcare plan.\\nTo get the full stipend, workers must put in at least 25 hours per week. The companies only count “engaged” time, not including periods spent driving without an assigned job — estimated to be about a third of all time spent on the road,\\xa0according to a University of California, Berkeley, study. No allowances are made for time off or sickness. Data\\xa0shared by Uber\\xa0suggested that about three-quarters of its own drivers would not meet this threshold.\\nOther benefits include a guaranteed minimum earning rate, accident insurance, and $0.30 per mile for vehicle expenses. The measures have been derided as inadequate by workers’ groups, but the gig companies maintained that such a model was vital if workers were to maintain their flexible work patterns.\\nBut a study by University of California, Santa Cruz, in May determined that “delivery workers are particularly dependent on tips, which account for 30 per cent of their estimated earnings”.\\n“I keep records,” said Jeanine, a Grubhub worker in the San Francisco Bay Area. “And there’s been a complete flip. It’s stunning.”\\nShe shared with the Financial Times a breakdown of her tips on the platform both before and after the change. On two consecutive Saturdays she completed the same number of orders — eight — but on the first Saturday, before the change, 100 per cent of her customers left at least a small tip — totalling $61.03.\\nOn the second Saturday, five of her eight customers left no tip, with the rest totalling $24.71.\\n\\nRecommended\\n\\nAirbnb and DoorDash IPOs leave gig economy issues unresolved\\n\\nIn response to criticism over the new tip options, a Grubhub spokeswoman said: “Some diners in California may see this at checkout alongside a driver benefits fee, and diners continue to have the ability to leave a tip for their driver, including through the custom tip feature.”\\nProposition 22 gave workers “more stability”, the statement added.\\nUber and DoorDash last week said they would raise prices in order to fund Proposition 22 benefits, though as yet only Grubhub has made changes to its tipping system.\\nIn June, it was announced Grubhub would be acquired by European food delivery group Just Eat Takeaway in a deal worth $7.3bn.\\nCopyright\\xa0The Financial Times Limited . All rights reserved. Please don't copy articles from FT.com and redistribute by email or post to the web.\\n\\nView comments\",\n",
       " \"Jeez, a lot of assholes in this chat. Its hard to earn tips when your just a driver, a barista or waitress can charm the customers and be nice and such. When you're a driver, you're judged by how fast you make the delivery, which depends on traffic. If drivers can't get tips, then adjust their pay accordingly.\",\n",
       " \"Something looks fucked up with the tipping selector thing.  $1000+ order and the suggested tips are $0.50, $1, etc?  That's gotta be a mistake.\\n\\nBut, yeah, defaulting to $0 blows.  It suggests that not tipping is fine, and given that drivers mostly rely on the tips to make a living... it's... not fine.\",\n",
       " 'What. It’s is that?',\n",
       " 'Wow absolutely breathtaking view. Thanks for sharing!',\n",
       " 'Is that SF?',\n",
       " 'Top 10 hero’s that can defeat thanos',\n",
       " 'u/savevideo',\n",
       " 'u/savevideo',\n",
       " '[deleted]',\n",
       " 'Better than the original!',\n",
       " 'grubhub',\n",
       " 'Is this in the original key??? WHY DOES IT SOUND SO MUCH CREEPIER ON PIANO',\n",
       " 'Make sure your parents call GH or put it in their app and rate him and leave feedback saying THEIF. When you talk to support please give all information so they will be permanently deactivated! Across several delivery plate forms. They are all getting furious about the drivers stealing food. I work hard for my money and hate people that make us hard working people look like thieves.',\n",
       " 'And then he clocked out and drove to baby momma house.',\n",
       " 'Well he only gets to do that one time before they deactivate him so ya he got $150 in food but now has no job and no chance of ever eating that good again.',\n",
       " 'Why is that even a thing 😂',\n",
       " 'If you spend $400 on hamburgers, does $10 even matter?',\n",
       " \"2.5% off??? THAT'S AMAZING!!\",\n",
       " \"They're going to deactivate this driver probably and no they aren't going to explicitly tell him it was you or something.\\n\\n&#x200B;\\n\\nThis is 100% cause for a deactivation. Threatening for tips is absolutely forbidden by everyone for obvious reasons, be it app gig economy shit or Papa Johns. We fired a guy at papa johns for threatening customers for tips I shit you not when I worked there.\\n\\n&#x200B;\\n\\n100% report this asshole get him deactivated.\",\n",
       " 'Please report this dick head get him fired. See how he makes any income now!',\n",
       " 'Definitely report, Id be happy for a tip that big on any order! I’ve never got one that big! Yes they take reports seriously and he’ll likely be fired or “deactivated”',\n",
       " 'Report him. He makes us all look bad.',\n",
       " 'Absolutely report this guy. Threatening for tips is uncalled for regardless of the situation.',\n",
       " \"I wanna know what market has drivers getting almost $30 probably for the delivery and it's too low for this asshole. I wonder what his average tip is that 25 is too low.\",\n",
       " 'extortion! report him so he gets deactivated and we will all thank you !!!',\n",
       " 'God bless you for having to deal with this but being kind enough to tip this way',\n",
       " 'Bullshit',\n",
       " 'You get those crackhead drivers everytime grubhub starts doing mass hires. They typically lose their job within 2 days so I wouldnt worry about it too much.',\n",
       " 'Where I live we shoot robbers.',\n",
       " 'Report him. That’s totally unacceptable behavior that makes the rest of us look bad.',\n",
       " 'Seriously. Fucking dicks.',\n",
       " \"I just got burned with this.  I already didn't like GH but my work gave me a giftcard for them.  between that, lack of good resturaunts in my area, and the general glitchyness of their site, gotta say not much of a fan.\",\n",
       " \"Yeah, they're useless.\\n\\nWhy?  No clue, probably just lowest bidder type support team who is actually there to support GrubHub corporate and not drivers/customers.  Just my guess.\",\n",
       " 'Yea. They sent me great bags last year that finally lost their stink over in my garage. Then last week they sent me 7 masks and a bottle of hand sanitizer. Nice. Never got that from Doordash. But then they never sent me any orders when I did sign on and they bugged the shit out of me days before I was to go out. Meh. Plus the territory is huge and covers a tri state area! Forget that. Done with GH.',\n",
       " '95 percent of the time yes',\n",
       " \"I've received a total of ONE template-based response from my local GrubHub supervisor.\\n\\nNo responses to any other queries.\\n\\nThe FAQ page on the GrubHub website is minimal and outdated...so I've had to email Driver Payment Support multiple times for questions that could've been easily answered if the information was already on the website.\\n\\nIf they were truly interested in both saving money \\\\*\\\\*and\\\\*\\\\* supporting their drivers, they would build out their FAQ sheet and expand the Help section of their Driver app.\",\n",
       " 'The worse support ever.',\n",
       " 'They were the one part that was decent for us. Most workers can’t even read directions and bring orders hours late. But to me good service isn’t just refunding when it is poor. Do it right the first time!!! Need to find a list of local restaurants that do their delivery first party.',\n",
       " 'Yep even on the customer side. Trying to push 50% off next order without even refunding my original order where the driver never appeared (I was literally outside the street waiting) yet still marking as \"delivered\". I guess a 20% tip wasn\\'t enough.']"
      ]
     },
     "execution_count": 9,
     "metadata": {},
     "output_type": "execute_result"
    }
   ],
   "source": [
    "top_level_comments"
   ]
  },
  {
   "cell_type": "code",
   "execution_count": 10,
   "metadata": {},
   "outputs": [
    {
     "name": "stdout",
     "output_type": "stream",
     "text": [
      "115\n"
     ]
    }
   ],
   "source": [
    "print(len(top_level_comments))"
   ]
  },
  {
   "cell_type": "code",
   "execution_count": 11,
   "metadata": {},
   "outputs": [],
   "source": [
    "df = pd.DataFrame(top_level_comments, columns=[\"comment\"])\n",
    "df.to_csv('ghBaseCommentList.csv', index=False)\n"
   ]
  },
  {
   "cell_type": "code",
   "execution_count": null,
   "metadata": {},
   "outputs": [],
   "source": []
  }
 ],
 "metadata": {
  "kernelspec": {
   "display_name": "Python 3",
   "language": "python",
   "name": "python3"
  },
  "language_info": {
   "codemirror_mode": {
    "name": "ipython",
    "version": 3
   },
   "file_extension": ".py",
   "mimetype": "text/x-python",
   "name": "python",
   "nbconvert_exporter": "python",
   "pygments_lexer": "ipython3",
   "version": "3.8.8"
  }
 },
 "nbformat": 4,
 "nbformat_minor": 4
}
